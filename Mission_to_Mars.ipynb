{
 "cells": [
  {
   "cell_type": "code",
   "execution_count": null,
   "id": "6a3aac45",
   "metadata": {},
   "outputs": [],
   "source": [
    "# pip install webdriver_manager"
   ]
  },
  {
   "cell_type": "code",
   "execution_count": 1,
   "id": "4579d085",
   "metadata": {},
   "outputs": [],
   "source": [
    "# Import Splinter and BeautifulSoup\n",
    "from splinter import Browser\n",
    "from bs4 import BeautifulSoup as soup\n",
    "from webdriver_manager.chrome import ChromeDriverManager\n",
    "\n",
    "import pandas as pd"
   ]
  },
  {
   "cell_type": "code",
   "execution_count": 2,
   "id": "f892d627",
   "metadata": {},
   "outputs": [
    {
     "name": "stderr",
     "output_type": "stream",
     "text": [
      "\n",
      "\n",
      "====== WebDriver manager ======\n",
      "Current google-chrome version is 99.0.4844\n",
      "Get LATEST chromedriver version for 99.0.4844 google-chrome\n",
      "Driver [/Users/soha/.wdm/drivers/chromedriver/mac64/99.0.4844.51/chromedriver] found in cache\n"
     ]
    }
   ],
   "source": [
    "# Set up Splinter: set up the executable path, then set up the URL\n",
    "executable_path = {'executable_path': ChromeDriverManager().install()}\n",
    "browser = Browser('chrome', **executable_path, headless=False)"
   ]
  },
  {
   "cell_type": "markdown",
   "id": "b5909374",
   "metadata": {},
   "source": [
    "### The Article"
   ]
  },
  {
   "cell_type": "code",
   "execution_count": 3,
   "id": "52c2eb6c",
   "metadata": {},
   "outputs": [
    {
     "data": {
      "text/plain": [
       "True"
      ]
     },
     "execution_count": 3,
     "metadata": {},
     "output_type": "execute_result"
    }
   ],
   "source": [
    "# Visit the mars nasa news site\n",
    "url = 'https://redplanetscience.com'\n",
    "browser.visit(url)\n",
    "# Optional delay for loading the page\n",
    "browser.is_element_present_by_css('div.list_text', wait_time=1)\n",
    "## In the line above, we are:\n",
    "## Searching for elt.s with a sp. combination of tag (div) and attribute (list_text);\n",
    "## (Eg: 'div.list_text' exists as <div class=\"list_text\"> in HTML)\n",
    "## and, we are telling the browser to wait 1 second before searching for components -\n",
    "## this gives dynmaic pages a little while to load, esp if they are image-heavy."
   ]
  },
  {
   "cell_type": "code",
   "execution_count": 4,
   "id": "05b694cd",
   "metadata": {},
   "outputs": [],
   "source": [
    "# Set up the HTML parser\n",
    "html = browser.html\n",
    "news_soup = soup(html, 'html.parser')\n",
    "slide_elem = news_soup.select_one('div.list_text')\n",
    "\n",
    "## NOTE: Notice how we've assigned slide_elem as the variable to look for the <div /> tag and its descendent \n",
    "## (the other tags within the <div /> element)? This is our parent element. This means that this element holds \n",
    "## all of the other elements within it, and we'll reference it when we want to filter search results even further. \n",
    "## The . is used for selecting classes, such as list_text, so the code 'div.list_text' pinpoints the <div /> tag \n",
    "## with the class of list_text. CSS works from right to left, such as returning the last item on the list instead \n",
    "## of the first. Because of this, when using select_one, the first matching element returned will be a <li /> \n",
    "## element with a class of slide and all nested elements within it."
   ]
  },
  {
   "cell_type": "code",
   "execution_count": 5,
   "id": "68d825bc",
   "metadata": {},
   "outputs": [
    {
     "data": {
      "text/plain": [
       "<div class=\"content_title\">A New Video Captures the Science of NASA's Perseverance Mars Rover</div>"
      ]
     },
     "execution_count": 5,
     "metadata": {},
     "output_type": "execute_result"
    }
   ],
   "source": [
    "# Scrape the title of the most recent article published\n",
    "slide_elem.find('div', class_='content_title')\n",
    "## This, however, prints the title Along with the extra HTML stuff.\n",
    "## We only require the text."
   ]
  },
  {
   "cell_type": "code",
   "execution_count": 6,
   "id": "dba1b82c",
   "metadata": {},
   "outputs": [
    {
     "data": {
      "text/plain": [
       "\"A New Video Captures the Science of NASA's Perseverance Mars Rover\""
      ]
     },
     "execution_count": 6,
     "metadata": {},
     "output_type": "execute_result"
    }
   ],
   "source": [
    "# Use the parent element to find the first `a` tag and save it as `news_title`\n",
    "news_title = slide_elem.find('div', class_='content_title').get_text()\n",
    "news_title\n",
    "## This returns only the text of the elt.,\n",
    "## which in our case is the title of the news article. "
   ]
  },
  {
   "cell_type": "code",
   "execution_count": 7,
   "id": "15ffdd7c",
   "metadata": {},
   "outputs": [],
   "source": [
    "# NOTE: \n",
    "## .find() is used when we want only the first class and attribute we've specified.\n",
    "## .find_all() is used when we want to retrieve all of the tags and attributes."
   ]
  },
  {
   "cell_type": "code",
   "execution_count": 8,
   "id": "7f65179a",
   "metadata": {},
   "outputs": [
    {
     "data": {
      "text/plain": [
       "'With a targeted launch date of July 30, the next robotic scientist NASA is sending to the to the Red Planet has big ambitions.'"
      ]
     },
     "execution_count": 8,
     "metadata": {},
     "output_type": "execute_result"
    }
   ],
   "source": [
    "# Scrape the summary text for the most recent article published\n",
    "## Use the parent element to find the paragraph text\n",
    "news_p = slide_elem.find('div', class_='article_teaser_body').get_text()\n",
    "news_p"
   ]
  },
  {
   "cell_type": "markdown",
   "id": "67088d7e",
   "metadata": {},
   "source": [
    "### Featured Images"
   ]
  },
  {
   "cell_type": "code",
   "execution_count": 9,
   "id": "b4c95f9e",
   "metadata": {},
   "outputs": [],
   "source": [
    "# Visit URL\n",
    "url = 'https://spaceimages-mars.com'\n",
    "browser.visit(url)"
   ]
  },
  {
   "cell_type": "code",
   "execution_count": 10,
   "id": "73bf3173",
   "metadata": {},
   "outputs": [],
   "source": [
    "# Find and click the full image button\n",
    "full_image_elem = browser.find_by_tag('button')[1]\n",
    "full_image_elem.click()\n",
    "\n",
    "## The index [1] stipulates that the second button be clicked (which is our required button)."
   ]
  },
  {
   "cell_type": "code",
   "execution_count": 11,
   "id": "73dbc2dd",
   "metadata": {},
   "outputs": [],
   "source": [
    "# Parse the resulting html with soup\n",
    "html = browser.html\n",
    "img_soup = soup(html, 'html.parser')"
   ]
  },
  {
   "cell_type": "code",
   "execution_count": 12,
   "id": "433372a8",
   "metadata": {},
   "outputs": [
    {
     "data": {
      "text/plain": [
       "'image/featured/mars3.jpg'"
      ]
     },
     "execution_count": 12,
     "metadata": {},
     "output_type": "execute_result"
    }
   ],
   "source": [
    "# Find the relative image url\n",
    "img_url_rel = img_soup.find('img', class_='fancybox-image').get('src')\n",
    "img_url_rel\n",
    "\n",
    "## An img tag is nested within this HTML, so we've included it.\n",
    "## .get('src') pulls the link to the image."
   ]
  },
  {
   "cell_type": "code",
   "execution_count": 13,
   "id": "f76a5e01",
   "metadata": {},
   "outputs": [
    {
     "data": {
      "text/plain": [
       "'https://spaceimages-mars.com/image/featured/mars3.jpg'"
      ]
     },
     "execution_count": 13,
     "metadata": {},
     "output_type": "execute_result"
    }
   ],
   "source": [
    "# Use the base URL to create an absolute URL\n",
    "img_url = f'https://spaceimages-mars.com/{img_url_rel}'\n",
    "img_url\n",
    "\n",
    "## A NOTE on f-strings: \n",
    "## We're using an f-string for this print statement because it's a cleaner way to create print statements; \n",
    "## they're also evaluated at run-time. This means that it, and the variable it holds, doesn't exist until the \n",
    "## code is executed and the values are not constant. This works well for our scraping app because the data \n",
    "## we're scraping is live and will be updated frequently."
   ]
  },
  {
   "cell_type": "markdown",
   "id": "3f477b5b",
   "metadata": {},
   "source": [
    "### Table of Facts"
   ]
  },
  {
   "cell_type": "code",
   "execution_count": 14,
   "id": "55b98cb5",
   "metadata": {},
   "outputs": [
    {
     "data": {
      "text/html": [
       "<div>\n",
       "<style scoped>\n",
       "    .dataframe tbody tr th:only-of-type {\n",
       "        vertical-align: middle;\n",
       "    }\n",
       "\n",
       "    .dataframe tbody tr th {\n",
       "        vertical-align: top;\n",
       "    }\n",
       "\n",
       "    .dataframe thead th {\n",
       "        text-align: right;\n",
       "    }\n",
       "</style>\n",
       "<table border=\"1\" class=\"dataframe\">\n",
       "  <thead>\n",
       "    <tr style=\"text-align: right;\">\n",
       "      <th></th>\n",
       "      <th>Mars</th>\n",
       "      <th>Earth</th>\n",
       "    </tr>\n",
       "    <tr>\n",
       "      <th>description</th>\n",
       "      <th></th>\n",
       "      <th></th>\n",
       "    </tr>\n",
       "  </thead>\n",
       "  <tbody>\n",
       "    <tr>\n",
       "      <th>Mars - Earth Comparison</th>\n",
       "      <td>Mars</td>\n",
       "      <td>Earth</td>\n",
       "    </tr>\n",
       "    <tr>\n",
       "      <th>Diameter:</th>\n",
       "      <td>6,779 km</td>\n",
       "      <td>12,742 km</td>\n",
       "    </tr>\n",
       "    <tr>\n",
       "      <th>Mass:</th>\n",
       "      <td>6.39 × 10^23 kg</td>\n",
       "      <td>5.97 × 10^24 kg</td>\n",
       "    </tr>\n",
       "    <tr>\n",
       "      <th>Moons:</th>\n",
       "      <td>2</td>\n",
       "      <td>1</td>\n",
       "    </tr>\n",
       "    <tr>\n",
       "      <th>Distance from Sun:</th>\n",
       "      <td>227,943,824 km</td>\n",
       "      <td>149,598,262 km</td>\n",
       "    </tr>\n",
       "    <tr>\n",
       "      <th>Length of Year:</th>\n",
       "      <td>687 Earth days</td>\n",
       "      <td>365.24 days</td>\n",
       "    </tr>\n",
       "    <tr>\n",
       "      <th>Temperature:</th>\n",
       "      <td>-87 to -5 °C</td>\n",
       "      <td>-88 to 58°C</td>\n",
       "    </tr>\n",
       "  </tbody>\n",
       "</table>\n",
       "</div>"
      ],
      "text/plain": [
       "                                    Mars            Earth\n",
       "description                                              \n",
       "Mars - Earth Comparison             Mars            Earth\n",
       "Diameter:                       6,779 km        12,742 km\n",
       "Mass:                    6.39 × 10^23 kg  5.97 × 10^24 kg\n",
       "Moons:                                 2                1\n",
       "Distance from Sun:        227,943,824 km   149,598,262 km\n",
       "Length of Year:           687 Earth days      365.24 days\n",
       "Temperature:                -87 to -5 °C      -88 to 58°C"
      ]
     },
     "execution_count": 14,
     "metadata": {},
     "output_type": "execute_result"
    }
   ],
   "source": [
    "# Converting HTML-coded table into a DataFrame\n",
    "df = pd.read_html('https://galaxyfacts-mars.com')[0]\n",
    "df.columns=['description', 'Mars', 'Earth']\n",
    "df.set_index('description', inplace=True)\n",
    "df\n",
    "\n",
    "# The above mentioned steps do the following:\n",
    "## 1st line: The Pandas function read_html() specifically searches for and returns a list of tables found in the \n",
    "## HTML. By specifying an index of 0, we're telling Pandas to pull only the first table it encounters, or the first\n",
    "## item in the list. Then, it turns the table into a DataFrame.\n",
    "## 2nd line: Here, we assign columns to the new DataFrame for additional clarity.\n",
    "## 3rd line: By using the .set_index() function, we're turning the Description column into the DataFrame's index. \n",
    "## inplace=True means that the updated index will remain in place, without having to reassign the DataFrame to a \n",
    "## new variable."
   ]
  },
  {
   "cell_type": "code",
   "execution_count": 15,
   "id": "a45effbf",
   "metadata": {},
   "outputs": [
    {
     "data": {
      "text/plain": [
       "'<table border=\"1\" class=\"dataframe\">\\n  <thead>\\n    <tr style=\"text-align: right;\">\\n      <th></th>\\n      <th>Mars</th>\\n      <th>Earth</th>\\n    </tr>\\n    <tr>\\n      <th>description</th>\\n      <th></th>\\n      <th></th>\\n    </tr>\\n  </thead>\\n  <tbody>\\n    <tr>\\n      <th>Mars - Earth Comparison</th>\\n      <td>Mars</td>\\n      <td>Earth</td>\\n    </tr>\\n    <tr>\\n      <th>Diameter:</th>\\n      <td>6,779 km</td>\\n      <td>12,742 km</td>\\n    </tr>\\n    <tr>\\n      <th>Mass:</th>\\n      <td>6.39 × 10^23 kg</td>\\n      <td>5.97 × 10^24 kg</td>\\n    </tr>\\n    <tr>\\n      <th>Moons:</th>\\n      <td>2</td>\\n      <td>1</td>\\n    </tr>\\n    <tr>\\n      <th>Distance from Sun:</th>\\n      <td>227,943,824 km</td>\\n      <td>149,598,262 km</td>\\n    </tr>\\n    <tr>\\n      <th>Length of Year:</th>\\n      <td>687 Earth days</td>\\n      <td>365.24 days</td>\\n    </tr>\\n    <tr>\\n      <th>Temperature:</th>\\n      <td>-87 to -5 °C</td>\\n      <td>-88 to 58°C</td>\\n    </tr>\\n  </tbody>\\n</table>'"
      ]
     },
     "execution_count": 15,
     "metadata": {},
     "output_type": "execute_result"
    }
   ],
   "source": [
    "# Converting the DataFrame we created into HTML-ready code\n",
    "df.to_html()"
   ]
  },
  {
   "cell_type": "code",
   "execution_count": 16,
   "id": "4abf88b8",
   "metadata": {},
   "outputs": [],
   "source": [
    "# Ending the automated browsing session\n",
    "browser.quit()"
   ]
  },
  {
   "cell_type": "code",
   "execution_count": null,
   "id": "af32f349",
   "metadata": {},
   "outputs": [],
   "source": []
  }
 ],
 "metadata": {
  "kernelspec": {
   "display_name": "PythonData",
   "language": "python",
   "name": "pythondata"
  },
  "language_info": {
   "codemirror_mode": {
    "name": "ipython",
    "version": 3
   },
   "file_extension": ".py",
   "mimetype": "text/x-python",
   "name": "python",
   "nbconvert_exporter": "python",
   "pygments_lexer": "ipython3",
   "version": "3.9.7"
  }
 },
 "nbformat": 4,
 "nbformat_minor": 5
}
